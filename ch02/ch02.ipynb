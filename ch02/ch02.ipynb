{
 "cells": [
  {
   "cell_type": "markdown",
   "id": "1d94999b",
   "metadata": {
    "colab_type": "text",
    "id": "view-in-github",
    "slideshow": {
     "slide_type": "skip"
    },
    "tags": []
   },
   "source": [
    "<a href=\"https://colab.research.google.com/github/waelrash1/forecastingmodelsPY/blob/main/ch02/ch02.ipynb\" target=\"_parent\"><img src=\"https://colab.research.google.com/assets/colab-badge.svg\" alt=\"Open In Colab\"/></a>"
   ]
  },
  {
   "cell_type": "markdown",
   "id": "77cc08e3-695d-4f68-a4e0-07b1badf34b9",
   "metadata": {
    "id": "77cc08e3-695d-4f68-a4e0-07b1badf34b9",
    "slideshow": {
     "slide_type": "slide"
    },
    "tags": []
   },
   "source": [
    "# This chapter covers\n",
    "- Defining a baseline model\n",
    "- Setting a baseline using the mean Building a baseline using the mean of the previous window of time\n",
    "- Creating a baseline using the previous timestep\n",
    "- Implementing the naive seasonal forecast"
   ]
  },
  {
   "cell_type": "code",
   "execution_count": null,
   "id": "3ab73c1b-2236-4fa5-97e8-5bae0ed8f416",
   "metadata": {
    "id": "3ab73c1b-2236-4fa5-97e8-5bae0ed8f416",
    "outputId": "c70a8758-b304-4a9f-c6dd-3b20d786c4ff",
    "slideshow": {
     "slide_type": "skip"
    },
    "tags": []
   },
   "outputs": [],
   "source": [
    "# change the cell width\n",
    "from IPython.display import display, HTML\n",
    "display(HTML(\"<style>.container { width:90% !important; }</style>\"))\n"
   ]
  },
  {
   "cell_type": "code",
   "execution_count": null,
   "id": "4f0d6a50-98e4-412e-8231-deca248f1433",
   "metadata": {
    "id": "4f0d6a50-98e4-412e-8231-deca248f1433",
    "slideshow": {
     "slide_type": "slide"
    },
    "tags": []
   },
   "outputs": [],
   "source": [
    "# Importing necessary libraries\n",
    "import pandas as pd\n",
    "import numpy as np\n",
    "import matplotlib.pyplot as plt"
   ]
  },
  {
   "cell_type": "code",
   "execution_count": null,
   "id": "767e9f2e-f3e3-4aa6-a177-4249ad5134e2",
   "metadata": {
    "id": "767e9f2e-f3e3-4aa6-a177-4249ad5134e2",
    "slideshow": {
     "slide_type": "skip"
    },
    "tags": []
   },
   "outputs": [],
   "source": [
    "pd.set_option(\"display.width\", 120)"
   ]
  },
  {
   "cell_type": "code",
   "execution_count": null,
   "id": "45785e76-928a-4706-95c0-fabbef0e5632",
   "metadata": {
    "id": "45785e76-928a-4706-95c0-fabbef0e5632",
    "slideshow": {
     "slide_type": "skip"
    },
    "tags": []
   },
   "outputs": [],
   "source": [
    "# To avoid SettingWithCopyWarning\n",
    "pd.options.mode.chained_assignment = None"
   ]
  },
  {
   "cell_type": "code",
   "execution_count": null,
   "id": "c06f2a25-ad5c-4ad7-bdb6-5b0966e87945",
   "metadata": {
    "id": "c06f2a25-ad5c-4ad7-bdb6-5b0966e87945",
    "slideshow": {
     "slide_type": "slide"
    },
    "tags": []
   },
   "outputs": [],
   "source": [
    "\n",
    "# Loading data into a dataframe\n",
    "data_url='https://raw.githubusercontent.com/waelrash1/timeSeriesPy/master/data/jj.csv'\n",
    "df = pd.read_csv(data_url)"
   ]
  },
  {
   "cell_type": "code",
   "execution_count": null,
   "id": "51c17a9b-12c9-4f3c-8bf7-51ab006e5c70",
   "metadata": {
    "id": "51c17a9b-12c9-4f3c-8bf7-51ab006e5c70",
    "outputId": "25e25131-ede7-4561-8741-36c65192bf4a",
    "slideshow": {
     "slide_type": "fragment"
    },
    "tags": []
   },
   "outputs": [],
   "source": [
    "# Showing top records in the dataframe\n",
    "df.head()"
   ]
  },
  {
   "cell_type": "code",
   "execution_count": null,
   "id": "126c8a11-b88b-4d3d-aaea-71ca55cac277",
   "metadata": {
    "id": "126c8a11-b88b-4d3d-aaea-71ca55cac277",
    "outputId": "6768135e-54ed-49a4-db1b-c37907960f9a",
    "slideshow": {
     "slide_type": "fragment"
    },
    "tags": []
   },
   "outputs": [],
   "source": [
    "# Showing bottom records in the dataframe\n",
    "df.tail()"
   ]
  },
  {
   "cell_type": "markdown",
   "id": "unique-arrival",
   "metadata": {
    "id": "unique-arrival",
    "slideshow": {
     "slide_type": "slide"
    },
    "tags": []
   },
   "source": [
    "# Plot data with train/test split "
   ]
  },
  {
   "cell_type": "code",
   "execution_count": null,
   "id": "a5ab13ff-35e7-4336-b24b-c84a84037455",
   "metadata": {
    "id": "a5ab13ff-35e7-4336-b24b-c84a84037455",
    "outputId": "9a7d2207-30fa-48db-9047-d3c79f876746",
    "slideshow": {
     "slide_type": "fragment"
    },
    "tags": []
   },
   "outputs": [],
   "source": [
    "\n",
    "# Plotting data with train/test split\n",
    "fig, ax = plt.subplots(figsize=(12, 8))\n",
    "\n",
    "# Plotting date on x-axis and data on y-axis\n",
    "ax.plot(df['date'], df['data'])\n",
    "\n",
    "# Setting x-axis label\n",
    "ax.set_xlabel('Date')\n",
    "\n",
    "# Setting y-axis label\n",
    "ax.set_ylabel('Earnings per share (USD)')\n",
    "\n",
    "# Highlighting the test data in the plot\n",
    "ax.axvspan(80, 83, color='#808080', alpha=0.2)\n",
    "# Highlight training data\n",
    "ax.axvspan(0, 80, color='#e9a296', alpha=0.1)\n",
    "# Adding x-axis ticks at specified intervals\n",
    "plt.xticks(np.arange(0, 81, 8), [1960, 1962, 1964, 1966, 1968, 1970, 1972, 1974, 1976, 1978, 1980])\n",
    "\n",
    "# Formatting x-axis labels\n",
    "fig.autofmt_xdate()\n",
    "\n",
    "# Adjusting layout\n",
    "plt.tight_layout()\n",
    "\n",
    "# Saving the plot to a file\n",
    "plt.savefig('figures/CH02_F01_peixeiro.png', dpi=300)"
   ]
  },
  {
   "cell_type": "markdown",
   "id": "6106b3af-56da-4767-a834-80c38299c4e9",
   "metadata": {
    "slideshow": {
     "slide_type": "notes"
    },
    "tags": []
   },
   "source": [
    "Quarterly earnings per share of Johnson & Johnson in US dollars (USD)\n",
    "between 1960 and 1980. We will use the data from 1960 to the last quarter of 1979\n",
    "to build a baseline model that will forecast the earnings per share for the quarters of\n",
    "1980 (as illustrated by the gray area)."
   ]
  },
  {
   "cell_type": "markdown",
   "id": "b5543951-993c-40c4-b2f4-41fed104dac4",
   "metadata": {
    "slideshow": {
     "slide_type": "slide"
    },
    "tags": []
   },
   "source": [
    "# Baseline model\n",
    "> A baseline model is a trivial solution to your forecasting problem. It relies on heuristics\n",
    "or simple statistics and is usually the simplest solution. It does not require\n",
    "model fitting, and it is easy to implement."
   ]
  },
  {
   "cell_type": "markdown",
   "id": "quick-prisoner",
   "metadata": {
    "id": "quick-prisoner",
    "slideshow": {
     "slide_type": "slide"
    },
    "tags": []
   },
   "source": [
    "# Predict historical mean "
   ]
  },
  {
   "cell_type": "markdown",
   "id": "d00067d8-863d-4c92-8a9f-c82ade4ee159",
   "metadata": {
    "slideshow": {
     "slide_type": "fragment"
    },
    "tags": []
   },
   "source": [
    "> Our goal is to use the data from 1960 to the end of 1979 to predict the four quarters of 1980. The first baseline we’ll discuss uses the historical mean, which is the arithmetic mean of past values. Its implementation is straightforward: calculate the mean of the training set,\n",
    "and it will be our prediction for the four quarters of 1980. First, though, we need to do\n",
    "some preliminary work that we’ll use in all of our baseline implementations."
   ]
  },
  {
   "cell_type": "markdown",
   "id": "religious-barrel",
   "metadata": {
    "id": "religious-barrel",
    "slideshow": {
     "slide_type": "slide"
    },
    "tags": []
   },
   "source": [
    "# Split to train/test "
   ]
  },
  {
   "cell_type": "code",
   "execution_count": null,
   "id": "c7f18346-957f-4175-b9e6-b2f77e64ef0d",
   "metadata": {
    "id": "c7f18346-957f-4175-b9e6-b2f77e64ef0d",
    "slideshow": {
     "slide_type": "fragment"
    },
    "tags": []
   },
   "outputs": [],
   "source": [
    "# Splitting data into train and test sets\n",
    "train = df[:-4]\n",
    "test = df[-4:]"
   ]
  },
  {
   "cell_type": "markdown",
   "id": "eb96f8c8-1500-42d4-a2e3-0489959fc897",
   "metadata": {
    "slideshow": {
     "slide_type": "slide"
    },
    "tags": []
   },
   "source": [
    "## Implementing the historical mean baseline"
   ]
  },
  {
   "cell_type": "code",
   "execution_count": null,
   "id": "fdbe0530-d4f8-47ec-833c-a66ddfda58d8",
   "metadata": {
    "id": "fdbe0530-d4f8-47ec-833c-a66ddfda58d8",
    "slideshow": {
     "slide_type": "fragment"
    },
    "tags": []
   },
   "outputs": [],
   "source": [
    "# Predicting historical mean\n",
    "historical_mean = np.mean(train['data'])"
   ]
  },
  {
   "cell_type": "code",
   "execution_count": null,
   "id": "2c4a8070-1c8a-4f26-8762-160051d76a3d",
   "metadata": {
    "id": "2c4a8070-1c8a-4f26-8762-160051d76a3d",
    "outputId": "35071ddb-155f-4317-cde7-3d1e34279f66",
    "slideshow": {
     "slide_type": "fragment"
    },
    "tags": []
   },
   "outputs": [],
   "source": [
    "\n",
    "# Adding predicted values to test set\n",
    "test.loc[:,'pred_mean'] = historical_mean\n",
    "\n",
    "# Showing test set with predicted values\n",
    "test"
   ]
  },
  {
   "cell_type": "markdown",
   "id": "2075c584-f9dc-4c3d-bfff-c3e6b54f8d8c",
   "metadata": {
    "slideshow": {
     "slide_type": "slide"
    },
    "tags": []
   },
   "source": [
    "## Mean Absolute Percentage Error MAPE"
   ]
  },
  {
   "cell_type": "markdown",
   "id": "6e2d3479-2006-493c-9dc3-47ab741a2493",
   "metadata": {
    "slideshow": {
     "slide_type": "fragment"
    },
    "tags": []
   },
   "source": [
    "$$\n",
    "\\Large MAPE= \\Large\\frac{1}{n} \\sum_{i}^{n}{\\left|{\\frac{A_i-F_i}{A_i}}\\right|x 100}\n",
    "$$"
   ]
  },
  {
   "cell_type": "code",
   "execution_count": null,
   "id": "6d25990b-955b-419f-8423-fda568833a42",
   "metadata": {
    "id": "6d25990b-955b-419f-8423-fda568833a42",
    "slideshow": {
     "slide_type": "fragment"
    },
    "tags": []
   },
   "outputs": [],
   "source": [
    "# Function to calculate mean absolute percentage error (MAPE)\n",
    "def mape(y_true, y_pred):\n",
    "    return np.mean(np.abs((y_true - y_pred) / y_true)) * 100"
   ]
  },
  {
   "cell_type": "code",
   "execution_count": null,
   "id": "50550599-df2b-488f-9e1d-c5f6629d6696",
   "metadata": {
    "id": "50550599-df2b-488f-9e1d-c5f6629d6696",
    "outputId": "176ebb5d-58d6-4148-838d-49db36fe55bd",
    "slideshow": {
     "slide_type": "fragment"
    },
    "tags": []
   },
   "outputs": [],
   "source": [
    "# Calculating MAPE for historical mean prediction\n",
    "mape_hist_mean = mape(test['data'], test['pred_mean'])\n",
    "mape_hist_mean"
   ]
  },
  {
   "cell_type": "code",
   "execution_count": null,
   "id": "3242aee7",
   "metadata": {
    "id": "3242aee7",
    "outputId": "bfd87a17-302f-45f2-b501-b04a3296918d",
    "slideshow": {
     "slide_type": "subslide"
    },
    "tags": []
   },
   "outputs": [],
   "source": [
    "\n",
    "# Plotting train and test data with historical mean prediction\n",
    "fig, ax = plt.subplots(figsize=(12, 8))\n",
    "\n",
    "# Plotting train data\n",
    "ax.plot(train['date'], train['data'], 'g-.', label='Train')\n",
    "\n",
    "# Plotting test data\n",
    "ax.plot(test['date'], test['data'], 'b-', label='Test')\n",
    "\n",
    "# Plotting predicted historical mean\n",
    "ax.plot(test['date'], test['pred_mean'], 'r--', label='Predicted')\n",
    "\n",
    "# Setting x-axis label\n",
    "ax.set_xlabel('Date')\n",
    "\n",
    "# Setting y-axis label\n",
    "ax.set_ylabel('Earnings per share (USD)')\n",
    "\n",
    "# Highlighting the test data in the plot\n",
    "ax.axvspan(80, 83, color='#808080', alpha=0.2)\n",
    "ax.legend(loc=2)\n",
    "\n",
    "plt.xticks(np.arange(0, 85, 8), [1960, 1962, 1964, 1966, 1968, 1970, 1972, 1974, 1976, 1978, 1980])\n",
    "\n",
    "fig.autofmt_xdate()\n",
    "plt.tight_layout()\n",
    "\n",
    "plt.savefig('figures/CH02_F06_peixeiro.png', dpi=300)\n"
   ]
  },
  {
   "cell_type": "markdown",
   "id": "0989c8a3-5e15-428b-bead-2a6e55b90586",
   "metadata": {
    "id": "0989c8a3-5e15-428b-bead-2a6e55b90586",
    "slideshow": {
     "slide_type": "slide"
    },
    "tags": []
   },
   "source": [
    "# Predict last year mean"
   ]
  },
  {
   "cell_type": "code",
   "execution_count": null,
   "id": "a7384b06-57de-4178-891f-abb6f3f1643b",
   "metadata": {
    "id": "a7384b06-57de-4178-891f-abb6f3f1643b",
    "outputId": "c54f7e6c-689f-4d01-83fc-7f87e217c674",
    "slideshow": {
     "slide_type": "fragment"
    },
    "tags": []
   },
   "outputs": [],
   "source": [
    "# Calculate the mean of the last 4 values of the 'data' column in the 'train' DataFrame\n",
    "last_year_mean = np.mean(train['data'][-4:])\n",
    "# Print the mean value\n",
    "last_year_mean"
   ]
  },
  {
   "cell_type": "code",
   "execution_count": null,
   "id": "bbc93917-261c-4d2e-8b98-75e204f6f117",
   "metadata": {
    "id": "bbc93917-261c-4d2e-8b98-75e204f6f117",
    "outputId": "940f7c01-de47-4371-d54c-5f67561d9f7b",
    "slideshow": {
     "slide_type": "fragment"
    },
    "tags": []
   },
   "outputs": [],
   "source": [
    "# Add a new column named 'pred__last_yr_mean' to the 'test' DataFrame and fill it with the value of 'last_year_mean'\n",
    "test.loc[:, 'pred__last_yr_mean'] = last_year_mean\n",
    "# Print the 'test' DataFrame to verify the new column\n",
    "test\n"
   ]
  },
  {
   "cell_type": "code",
   "execution_count": null,
   "id": "6f435a82-0eac-4c29-bf18-983bcef1343e",
   "metadata": {
    "id": "6f435a82-0eac-4c29-bf18-983bcef1343e",
    "outputId": "a1279908-d518-4f74-98fa-49ba56cedbbf",
    "slideshow": {
     "slide_type": "fragment"
    },
    "tags": []
   },
   "outputs": [],
   "source": [
    " # Calculate the Mean Absolute Percentage Error (MAPE) between the 'data' column in the 'test' DataFrame and the 'pred__last_yr_mean' column\n",
    "mape_last_year_mean = mape(test['data'], test['pred__last_yr_mean'])\n",
    "# Print the MAPE value\n",
    "mape_last_year_mean"
   ]
  },
  {
   "cell_type": "code",
   "execution_count": null,
   "id": "47417780-df6a-4cb3-af74-139c6cff476a",
   "metadata": {
    "id": "47417780-df6a-4cb3-af74-139c6cff476a",
    "outputId": "bed4ee7a-8ca4-402d-cf62-c5d044302615",
    "slideshow": {
     "slide_type": "subslide"
    },
    "tags": []
   },
   "outputs": [],
   "source": [
    "\n",
    "# Create a figure and a subplot (ax)\n",
    "fig, ax = plt.subplots(figsize=(12, 8))\n",
    "\n",
    "# Plot the 'data' column in the 'train' DataFrame with a green dotted line, labeled as 'Train'\n",
    "ax.plot(train['date'], train['data'], 'g-.', label='Train')\n",
    "# Plot the 'data' column in the 'test' DataFrame with a blue line, labeled as 'Test'\n",
    "ax.plot(test['date'], test['data'], 'b-', label='Test')\n",
    "# Plot the 'pred__last_yr_mean' column in the 'test' DataFrame with a red dashed line, labeled as 'Predicted'\n",
    "ax.plot(test['date'], test['pred__last_yr_mean'], 'r--', label='Predicted')\n",
    "# Set the label for the x-axis as 'Date'\n",
    "ax.set_xlabel('Date')\n",
    "# Set the label for the y-axis as 'Earnings per share (USD)'\n",
    "ax.set_ylabel('Earnings per share (USD)')\n",
    "# Add a gray background color to the plot between dates 80 and 83 with an alpha of 0.2\n",
    "ax.axvspan(80, 83, color='#808080', alpha=0.2)\n",
    "# Add a legend to the plot at location 2\n",
    "ax.legend(loc=2)\n",
    "\n",
    "# Set the x-axis ticks at every 8th value from 0 to 85, with labels at [1960, 1962, 1964, 1966, 1968, 1970, 1972, 1974, 1976, 1978, 1980]\n",
    "plt.xticks(np.arange(0, 85, 8), [1960, 1962, 1964, 1966, 1968, 1970, 1972, 1974, 1976, 1978, 1980])\n",
    "\n",
    "# Automatically format the x-axis labels\n",
    "fig.autofmt_xdate()\n",
    "# Adjust the layout of the plot to reduce the whitespace\n",
    "plt.tight_layout()\n",
    "\n",
    "# Save the plot as a PNG image with a resolution of 300 dpi, to the 'figures' directory with the file name 'CH02_F07_peixeiro.png'\n",
    "plt.savefig('figures/CH02_F07_peixeiro.png', dpi=300)\n"
   ]
  },
  {
   "cell_type": "markdown",
   "id": "expressed-gallery",
   "metadata": {
    "id": "expressed-gallery",
    "slideshow": {
     "slide_type": "slide"
    },
    "tags": []
   },
   "source": [
    "# Predict last know value "
   ]
  },
  {
   "cell_type": "code",
   "execution_count": null,
   "id": "0ca59cfd-be98-48eb-acf3-149c2fc4174a",
   "metadata": {
    "id": "0ca59cfd-be98-48eb-acf3-149c2fc4174a",
    "outputId": "9a330469-5590-4e2c-ceed-6ceeb67114f9",
    "slideshow": {
     "slide_type": "fragment"
    },
    "tags": []
   },
   "outputs": [],
   "source": [
    "# Predict last known value\n",
    "\n",
    "# Get the last value from the training set 'data' column\n",
    "last = train['data'].iloc[-1]\n",
    "# Print the last value\n",
    "print(last)\n"
   ]
  },
  {
   "cell_type": "code",
   "execution_count": null,
   "id": "af8bbcc8-9daf-4450-b32c-a8e29947d95d",
   "metadata": {
    "id": "af8bbcc8-9daf-4450-b32c-a8e29947d95d",
    "outputId": "4b0a3d3a-bb33-456b-b8d9-8fcb8d804cb3",
    "slideshow": {
     "slide_type": "fragment"
    },
    "tags": []
   },
   "outputs": [],
   "source": [
    "\n",
    "# Add a new column 'pred_last' to the test set with the last value\n",
    "test['pred_last'] = last\n",
    "# Print the updated test set\n",
    "print(test)"
   ]
  },
  {
   "cell_type": "code",
   "execution_count": null,
   "id": "57d3dbfb-2d0a-4336-9831-ac60418bb8f8",
   "metadata": {
    "id": "57d3dbfb-2d0a-4336-9831-ac60418bb8f8",
    "outputId": "f41b0f85-77b7-4531-8ebd-9c4d0da212e4",
    "slideshow": {
     "slide_type": "fragment"
    },
    "tags": []
   },
   "outputs": [],
   "source": [
    "\n",
    "# Calculate the mean absolute percentage error (MAPE) between the test set 'data' and 'pred_last' columns\n",
    "mape_last = mape(test['data'], test['pred_last'])\n",
    "# Print the MAPE\n",
    "print(mape_last)"
   ]
  },
  {
   "cell_type": "code",
   "execution_count": null,
   "id": "1db7835f-252e-42be-8dbc-bda2304d83e1",
   "metadata": {
    "id": "1db7835f-252e-42be-8dbc-bda2304d83e1",
    "outputId": "83166f4b-c104-4496-c3c3-5ddba883c9b7",
    "slideshow": {
     "slide_type": "subslide"
    },
    "tags": []
   },
   "outputs": [],
   "source": [
    "\n",
    "# Plot the train set 'data', the test set 'data', and the predicted values from 'pred_last'\n",
    "fig, ax = plt.subplots(figsize=(12, 8))\n",
    "ax.plot(train['date'], train['data'], 'g-.', label='Train')\n",
    "ax.plot(test['date'], test['data'], 'b-', label='Test')\n",
    "ax.plot(test['date'], test['pred_last'], 'r--', label='Predicted')\n",
    "ax.set_xlabel('Date')\n",
    "ax.set_ylabel('Earnings per share (USD)')\n",
    "ax.axvspan(80, 83, color='#808080', alpha=0.2)\n",
    "ax.legend(loc=2)\n",
    "plt.xticks(np.arange(0, 85, 8), [1960, 1962, 1964, 1966, 1968, 1970, 1972, 1974, 1976, 1978, 1980])\n",
    "fig.autofmt_xdate()\n",
    "plt.tight_layout()\n",
    "# Save the plot to a file\n",
    "plt.savefig('figures/CH02_F08_peixeiro.png', dpi=300)"
   ]
  },
  {
   "cell_type": "markdown",
   "id": "known-emphasis",
   "metadata": {
    "id": "known-emphasis",
    "slideshow": {
     "slide_type": "slide"
    },
    "tags": []
   },
   "source": [
    "# Naive seasonal forecast "
   ]
  },
  {
   "cell_type": "code",
   "execution_count": null,
   "id": "c66b3173-f2dc-49da-94c3-7bce37332320",
   "metadata": {
    "id": "c66b3173-f2dc-49da-94c3-7bce37332320",
    "outputId": "3e4a46b5-9d8c-4932-cd67-2804189d3baa",
    "slideshow": {
     "slide_type": "fragment"
    },
    "tags": []
   },
   "outputs": [],
   "source": [
    "# Add a new column 'pred_last_season' to the test set with the last 4 values from the train set 'data' column\n",
    "test['pred_last_season'] = train['data'][-4:].values\n",
    "# Print the updated test set\n",
    "print(test)\n"
   ]
  },
  {
   "cell_type": "code",
   "execution_count": null,
   "id": "db58983b-d56f-4949-a2a0-29948b12f7a5",
   "metadata": {
    "id": "db58983b-d56f-4949-a2a0-29948b12f7a5",
    "outputId": "5e0e7813-b6ed-4ae1-8f16-b3e810d897d4",
    "slideshow": {
     "slide_type": "fragment"
    },
    "tags": []
   },
   "outputs": [],
   "source": [
    "# Calculate the mean absolute percentage error (MAPE) between the test set 'data' and 'pred_last_season' columns\n",
    "mape_naive_seasonal = mape(test['data'], test['pred_last_season'])\n",
    "# Print the MAPE\n",
    "print(mape_naive_seasonal)"
   ]
  },
  {
   "cell_type": "code",
   "execution_count": null,
   "id": "415f7987-d79e-479b-b6a3-bbd2e97f68e4",
   "metadata": {
    "id": "415f7987-d79e-479b-b6a3-bbd2e97f68e4",
    "outputId": "e9da0179-52d3-423c-db26-cfce69dffa12",
    "slideshow": {
     "slide_type": "subslide"
    },
    "tags": []
   },
   "outputs": [],
   "source": [
    "\n",
    "\n",
    "# Initialize the plot\n",
    "fig, ax = plt.subplots(figsize=(12, 8))\n",
    "\n",
    "# Plot the train set 'data' in green dotted line style\n",
    "ax.plot(train['date'], train['data'], 'g-.', label='Train')\n",
    "\n",
    "# Plot the test set 'data' in blue line style\n",
    "ax.plot(test['date'], test['data'], 'b-', label='Test')\n",
    "\n",
    "# Plot the predicted values from 'pred_last_season' in red dashed line style\n",
    "ax.plot(test['date'], test['pred_last_season'], 'r--', label='Predicted')\n",
    "\n",
    "# Set x-axis label as 'Date'\n",
    "ax.set_xlabel('Date')\n",
    "\n",
    "# Set y-axis label as 'Earnings per share (USD)'\n",
    "ax.set_ylabel('Earnings per share (USD)')\n",
    "\n",
    "# Add a gray shaded region with 80% opacity from x-value 80 to 83\n",
    "ax.axvspan(80, 83, color='#808080', alpha=0.2)\n",
    "\n",
    "# Add a legend to the plot located at position 2\n",
    "ax.legend(loc=2)\n",
    "\n",
    "# Set x-axis tick marks every 8 units with labels representing the year\n",
    "plt.xticks(np.arange(0, 85, 8), [1960, 1962, 1964, 1966, 1968, 1970, 1972, 1974, 1976, 1978, 1980])\n",
    "\n",
    "# Automatically format x-axis dates\n",
    "fig.autofmt_xdate()\n",
    "\n",
    "# Adjust the layout of the plot to ensure tight fit of all elements\n",
    "plt.tight_layout()\n",
    "\n",
    "# Save the plot to a file named 'figures/CH02_F09_peixeiro.png' with a resolution of 300 dpi\n",
    "plt.savefig('figures/CH02_F09_peixeiro.png', dpi=300)\n",
    "\n"
   ]
  },
  {
   "cell_type": "markdown",
   "id": "9f991123-721f-4250-9f8e-45da6b87193e",
   "metadata": {
    "id": "9f991123-721f-4250-9f8e-45da6b87193e",
    "slideshow": {
     "slide_type": "slide"
    },
    "tags": []
   },
   "source": [
    "# Compare all Models"
   ]
  },
  {
   "cell_type": "code",
   "execution_count": null,
   "id": "silent-bradford",
   "metadata": {
    "id": "silent-bradford",
    "outputId": "c1e04b75-d801-47a5-ed1d-2f5d79f56d1d",
    "slideshow": {
     "slide_type": "fragment"
    },
    "tags": []
   },
   "outputs": [],
   "source": [
    "\n",
    "# Initialize the figure and axis\n",
    "fig, ax = plt.subplots(figsize=(12, 8))\n",
    "\n",
    "\n",
    "models = ['hist mean', 'last year mean', 'last', 'naive seasonal']\n",
    "MAPE = [70.00, 15.60, 30.46, 11.56]\n",
    "bar_colors = ['tab:red', 'tab:blue', 'tab:green', 'tab:orange']\n",
    "\n",
    "ax.bar(model, MAPE, width=0.8, alpha=.6, color=bar_colors)\n",
    "ax.set_xlabel('Baselines')\n",
    "ax.set_ylabel('MAPE (%)')\n",
    "ax.set_ylim(0, 75)\n",
    "\n",
    "for index, value in enumerate(MAPE):\n",
    "    plt.text(x=index, y=value+2 , s=str(value), ha='center', fontsize='x-large', alpha=.8)\n",
    "\n",
    "\n",
    "plt.show()\n",
    "\n",
    "plt.savefig('figures/CH02_F10_peixeiro.png', dpi=300)\n",
    "\n"
   ]
  },
  {
   "cell_type": "markdown",
   "id": "e0506589-f372-4311-8b60-0dc18cc8d9a8",
   "metadata": {
    "slideshow": {
     "slide_type": "slide"
    },
    "tags": []
   },
   "source": [
    "### Four Baselines Developed\n",
    "\n",
    "- Arithmetic mean of entire training set\n",
    "- Mean of last year in training set\n",
    "- Last known value of training set\n",
    "- Naive seasonal forecast (selected as benchmark with lowest MAPE)\n",
    "\n",
    "### Evaluation \n",
    "- Baselines were evaluated using MAPE metric on a test set.\n"
   ]
  },
  {
   "cell_type": "markdown",
   "id": "d2407618-623e-422d-bd60-500a5449e78e",
   "metadata": {},
   "source": [
    "### Comparison with Complex Models\n",
    "- Complex models will be compared against the benchmark (naive seasonal forecast MAPE).\n",
    "- If the complex model has a lower MAPE, it will be considered a better performing model.\n",
    "\n",
    "### Special Cases\n",
    "- There may be cases where time series can only be forecast using naive methods, such as when the process moves at random and can't be predicted using statistical learning methods (random walk).\n"
   ]
  },
  {
   "cell_type": "markdown",
   "id": "50c2ba3d-35c7-42a1-88d6-516e1641e9f1",
   "metadata": {
    "id": "939b0c8b-3147-496a-9867-3920200a8f99",
    "slideshow": {
     "slide_type": "slide"
    },
    "tags": []
   },
   "source": [
    "# Summary\n",
    "* Time series forecasting starts with a baseline model that serves as a benchmark for comparison with more complex models.\n",
    "* A baseline model is a trivial solution to our forecasting problem because it only uses heuristics, or simple statistics, such as the mean.\n",
    "* MAPE stands for mean absolute percentage error, and it is an intuitive measure of how much a predicted value deviates from the actual value.\n",
    "* There are many ways to develop a baseline. In this chapter, you saw how to use the mean, the last known value, or the last season."
   ]
  },
  {
   "cell_type": "code",
   "execution_count": null,
   "id": "936ad5b2-7ba3-4af1-acff-a41336135828",
   "metadata": {},
   "outputs": [],
   "source": []
  }
 ],
 "metadata": {
  "colab": {
   "include_colab_link": true,
   "provenance": []
  },
  "kernelspec": {
   "display_name": "Python 3 (ipykernel)",
   "language": "python",
   "name": "python3"
  },
  "language_info": {
   "codemirror_mode": {
    "name": "ipython",
    "version": 3
   },
   "file_extension": ".py",
   "mimetype": "text/x-python",
   "name": "python",
   "nbconvert_exporter": "python",
   "pygments_lexer": "ipython3",
   "version": "3.9.13"
  },
  "rise": {
   "autolaunch": true,
   "enable_chalkboard": true,
   "leap_motion": {
    "naturalSwipe": true,
    "pointerColor": "#d80000",
    "pointerOpacity": 0.5
   },
   "scroll": true,
   "transition": "zoom"
  }
 },
 "nbformat": 4,
 "nbformat_minor": 5
}
